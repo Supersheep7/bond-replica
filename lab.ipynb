{
 "cells": [
  {
   "cell_type": "code",
   "execution_count": 1,
   "id": "475cdc4f",
   "metadata": {},
   "outputs": [],
   "source": [
    "from preprocess import * \n",
    "import os\n",
    "import re\n",
    "from tqdm import tqdm\n",
    "from os.path import join\n",
    "import pinyin\n",
    "import unicodedata\n",
    "import json\n",
    "import codecs"
   ]
  },
  {
   "cell_type": "code",
   "execution_count": 4,
   "id": "18b316f9",
   "metadata": {},
   "outputs": [],
   "source": [
    "pubinfo_train = read_pubinfo('train')\n",
    "pubinfo_valid = read_pubinfo('valid')\n",
    "pubinfo_test = read_pubinfo('test')\n",
    "rawpub_train = read_raw_pubs('train')\n",
    "rawpub_valid = read_raw_pubs('valid')\n",
    "rawpub_test = read_raw_pubs('test')"
   ]
  },
  {
   "cell_type": "code",
   "execution_count": 5,
   "id": "b23cfdc6",
   "metadata": {},
   "outputs": [
    {
     "name": "stderr",
     "output_type": "stream",
     "text": [
      "100%|██████████| 160/160 [00:05<00:00, 31.29it/s]\n",
      "100%|██████████| 80/80 [00:03<00:00, 24.90it/s]\n",
      "100%|██████████| 80/80 [00:03<00:00, 23.61it/s]\n"
     ]
    }
   ],
   "source": [
    "dump_name_pubs()"
   ]
  },
  {
   "cell_type": "code",
   "execution_count": 6,
   "id": "7c790863",
   "metadata": {},
   "outputs": [
    {
     "name": "stderr",
     "output_type": "stream",
     "text": [
      "160it [00:09, 16.58it/s]\n"
     ]
    },
    {
     "name": "stdout",
     "output_type": "stream",
     "text": [
      "Finish train data extracted.\n"
     ]
    },
    {
     "name": "stderr",
     "output_type": "stream",
     "text": [
      "80it [00:04, 17.31it/s]\n"
     ]
    },
    {
     "name": "stdout",
     "output_type": "stream",
     "text": [
      "Finish valid data extracted.\n"
     ]
    },
    {
     "name": "stderr",
     "output_type": "stream",
     "text": [
      "80it [00:04, 18.97it/s]"
     ]
    },
    {
     "name": "stdout",
     "output_type": "stream",
     "text": [
      "Finish test data extracted.\n",
      "All paper features extracted.\n"
     ]
    },
    {
     "name": "stderr",
     "output_type": "stream",
     "text": [
      "\n"
     ]
    }
   ],
   "source": [
    "dump_features_relations_to_file()"
   ]
  }
 ],
 "metadata": {
  "kernelspec": {
   "display_name": "Python 3",
   "language": "python",
   "name": "python3"
  },
  "language_info": {
   "codemirror_mode": {
    "name": "ipython",
    "version": 3
   },
   "file_extension": ".py",
   "mimetype": "text/x-python",
   "name": "python",
   "nbconvert_exporter": "python",
   "pygments_lexer": "ipython3",
   "version": "3.10.11"
  }
 },
 "nbformat": 4,
 "nbformat_minor": 5
}
