{
 "cells": [
  {
   "cell_type": "code",
   "execution_count": null,
   "id": "475cdc4f",
   "metadata": {},
   "outputs": [],
   "source": [
    "from preprocess import * \n",
    "from paper_emb import *\n",
    "import os\n",
    "import re\n",
    "from tqdm import tqdm\n",
    "from os.path import join\n",
    "import pinyin\n",
    "import unicodedata\n",
    "import json\n",
    "import codecs"
   ]
  },
  {
   "cell_type": "markdown",
   "id": "9b706981",
   "metadata": {},
   "source": [
    "# Build folders (skip if we have them already)"
   ]
  },
  {
   "cell_type": "code",
   "execution_count": null,
   "id": "18b316f9",
   "metadata": {},
   "outputs": [],
   "source": [
    "pubinfo_train = read_pubinfo('train')\n",
    "pubinfo_valid = read_pubinfo('valid')\n",
    "pubinfo_test = read_pubinfo('test')\n",
    "rawpub_train = read_raw_pubs('train')\n",
    "rawpub_valid = read_raw_pubs('valid')\n",
    "rawpub_test = read_raw_pubs('test')\n",
    "dump_name_pubs()\n",
    "dump_features_relations_to_file()"
   ]
  },
  {
   "cell_type": "markdown",
   "id": "fbb38854",
   "metadata": {},
   "source": [
    "# Build Paper embeddings"
   ]
  },
  {
   "cell_type": "code",
   "execution_count": null,
   "id": "0e7b55a5",
   "metadata": {},
   "outputs": [],
   "source": [
    "ft_dim = 256\n",
    "dump_corpus()\n",
    "train_w2v_model(ft_dim)\n",
    "dump_paper_emb(model_name=f\"w2v_{ft_dim}\", ft_dim=ft_dim)"
   ]
  },
  {
   "cell_type": "markdown",
   "id": "458f5dc3",
   "metadata": {},
   "source": [
    "# Build graph"
   ]
  }
 ],
 "metadata": {
  "kernelspec": {
   "display_name": "Python 3",
   "language": "python",
   "name": "python3"
  },
  "language_info": {
   "codemirror_mode": {
    "name": "ipython",
    "version": 3
   },
   "file_extension": ".py",
   "mimetype": "text/x-python",
   "name": "python",
   "nbconvert_exporter": "python",
   "pygments_lexer": "ipython3",
   "version": "3.10.11"
  }
 },
 "nbformat": 4,
 "nbformat_minor": 5
}
