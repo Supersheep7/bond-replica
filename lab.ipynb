{
 "cells": [
  {
   "cell_type": "code",
   "execution_count": null,
   "id": "475cdc4f",
   "metadata": {},
   "outputs": [],
   "source": [
    "from preprocess import * \n",
    "import os\n",
    "import re\n",
    "from tqdm import tqdm\n",
    "from os.path import join\n",
    "import pinyin\n",
    "import unicodedata\n",
    "import json\n",
    "import codecs"
   ]
  }
 ],
 "metadata": {
  "kernelspec": {
   "display_name": "base",
   "language": "python",
   "name": "python3"
  },
  "language_info": {
   "codemirror_mode": {
    "name": "ipython",
    "version": 3
   },
   "file_extension": ".py",
   "mimetype": "text/x-python",
   "name": "python",
   "nbconvert_exporter": "python",
   "pygments_lexer": "ipython3",
   "version": "3.11.4"
  }
 },
 "nbformat": 4,
 "nbformat_minor": 5
}
